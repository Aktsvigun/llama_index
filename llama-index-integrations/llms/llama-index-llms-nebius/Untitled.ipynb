{
 "cells": [
  {
   "cell_type": "code",
   "execution_count": 1,
   "id": "72ba2c58-5040-475c-b3f5-cc459d91d15e",
   "metadata": {},
   "outputs": [],
   "source": [
    "from llama_index.llms.nebius import NebiusLLM"
   ]
  },
  {
   "cell_type": "code",
   "execution_count": 3,
   "id": "6b567241-43ac-45f0-9ac2-b45f6015a73c",
   "metadata": {},
   "outputs": [],
   "source": [
    "llm = NebiusLLM(\n",
    "    model='meta-llama/Meta-Llama-3.1-70B-Instruct-fast',\n",
    "    temperature=0.01,\n",
    "    additional_kwargs={\"top_p\": 1, \"max_new_tokens\": 300},\n",
    ")"
   ]
  },
  {
   "cell_type": "code",
   "execution_count": null,
   "id": "ee8b53d1-4804-40a5-9d7d-524e0bb8ba6b",
   "metadata": {},
   "outputs": [],
   "source": [
    "llm."
   ]
  }
 ],
 "metadata": {
  "kernelspec": {
   "display_name": "Python 3 (ipykernel)",
   "language": "python",
   "name": "python3"
  },
  "language_info": {
   "codemirror_mode": {
    "name": "ipython",
    "version": 3
   },
   "file_extension": ".py",
   "mimetype": "text/x-python",
   "name": "python",
   "nbconvert_exporter": "python",
   "pygments_lexer": "ipython3",
   "version": "3.11.0rc1"
  }
 },
 "nbformat": 4,
 "nbformat_minor": 5
}
